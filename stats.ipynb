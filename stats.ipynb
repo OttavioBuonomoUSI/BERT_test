{
 "cells": [
  {
   "cell_type": "code",
   "execution_count": 22,
   "metadata": {
    "collapsed": true
   },
   "outputs": [],
   "source": [
    "from train import get_df\n"
   ]
  },
  {
   "cell_type": "code",
   "execution_count": 23,
   "outputs": [],
   "source": [
    "df = get_df(\"microsoft\", \"vscode\")"
   ],
   "metadata": {
    "collapsed": false,
    "pycharm": {
     "name": "#%%\n"
    }
   }
  },
  {
   "cell_type": "code",
   "execution_count": 24,
   "outputs": [
    {
     "data": {
      "text/plain": "   IssueId      Owner    Repo AssigneeLogin  \\\n0   130000  microsoft  vscode         mjbvz   \n1   130001  microsoft  vscode    deepak1556   \n2   130003  microsoft  vscode    meganrogge   \n3   130004  microsoft  vscode  JacksonKearl   \n4   130005  microsoft  vscode  JacksonKearl   \n\n                                               Title  \\\n0  [typescript kernel tslab] VSCode's intellisens...   \n1   Webivew input events cannot focus datalist items   \n2  Multiple terminal windows do not restore corre...   \n3  Enhance workspacePlatform context key for web ...   \n4                    Remove legacy welcome page code   \n\n                                                Body  CreatorLogin  Status  \\\n0  ## Environment data\\r\\n\\r\\n-   VS Code version...       dbuezas  closed   \n1  Related: https://github.com/microsoft/vscode/i...        Tyriar  closed   \n2  \\r\\nIssue Type: <b>Bug</b>\\r\\n\\r\\nUsing a remo...        nspyke  closed   \n3  The `workspacePlatform` context key is current...  JacksonKearl  closed   \n4  This iteration I'll be removing code for the o...  JacksonKearl  closed   \n\n               ClosedAt             CreatedAt  \\\n0  2021-10-14T20:07:29Z  2021-08-01T13:37:32Z   \n1  2021-11-02T15:51:52Z  2021-08-02T21:07:41Z   \n2  2021-09-10T11:26:08Z  2021-08-02T21:54:52Z   \n3  2021-08-19T17:48:06Z  2021-08-02T22:19:28Z   \n4  2021-08-02T22:38:42Z  2021-08-02T22:36:22Z   \n\n                                                Text  \\\n0  [typescript kernel tslab] VSCode's intellisens...   \n1  Webivew input events cannot focus datalist ite...   \n2  Multiple terminal windows do not restore corre...   \n3  Enhance workspacePlatform context key for web ...   \n4  Remove legacy welcome page code This iteration...   \n\n                                           CleanText  \n0  [typescript kernel tslab] VSCode's intellisens...  \n1  Webivew input events cannot focus datalist ite...  \n2  Multiple terminal windows restore correct sess...  \n3  Enhance workspacePlatform context key web case...  \n4  Remove legacy welcome page code This iteration...  ",
      "text/html": "<div>\n<style scoped>\n    .dataframe tbody tr th:only-of-type {\n        vertical-align: middle;\n    }\n\n    .dataframe tbody tr th {\n        vertical-align: top;\n    }\n\n    .dataframe thead th {\n        text-align: right;\n    }\n</style>\n<table border=\"1\" class=\"dataframe\">\n  <thead>\n    <tr style=\"text-align: right;\">\n      <th></th>\n      <th>IssueId</th>\n      <th>Owner</th>\n      <th>Repo</th>\n      <th>AssigneeLogin</th>\n      <th>Title</th>\n      <th>Body</th>\n      <th>CreatorLogin</th>\n      <th>Status</th>\n      <th>ClosedAt</th>\n      <th>CreatedAt</th>\n      <th>Text</th>\n      <th>CleanText</th>\n    </tr>\n  </thead>\n  <tbody>\n    <tr>\n      <th>0</th>\n      <td>130000</td>\n      <td>microsoft</td>\n      <td>vscode</td>\n      <td>mjbvz</td>\n      <td>[typescript kernel tslab] VSCode's intellisens...</td>\n      <td>## Environment data\\r\\n\\r\\n-   VS Code version...</td>\n      <td>dbuezas</td>\n      <td>closed</td>\n      <td>2021-10-14T20:07:29Z</td>\n      <td>2021-08-01T13:37:32Z</td>\n      <td>[typescript kernel tslab] VSCode's intellisens...</td>\n      <td>[typescript kernel tslab] VSCode's intellisens...</td>\n    </tr>\n    <tr>\n      <th>1</th>\n      <td>130001</td>\n      <td>microsoft</td>\n      <td>vscode</td>\n      <td>deepak1556</td>\n      <td>Webivew input events cannot focus datalist items</td>\n      <td>Related: https://github.com/microsoft/vscode/i...</td>\n      <td>Tyriar</td>\n      <td>closed</td>\n      <td>2021-11-02T15:51:52Z</td>\n      <td>2021-08-02T21:07:41Z</td>\n      <td>Webivew input events cannot focus datalist ite...</td>\n      <td>Webivew input events cannot focus datalist ite...</td>\n    </tr>\n    <tr>\n      <th>2</th>\n      <td>130003</td>\n      <td>microsoft</td>\n      <td>vscode</td>\n      <td>meganrogge</td>\n      <td>Multiple terminal windows do not restore corre...</td>\n      <td>\\r\\nIssue Type: &lt;b&gt;Bug&lt;/b&gt;\\r\\n\\r\\nUsing a remo...</td>\n      <td>nspyke</td>\n      <td>closed</td>\n      <td>2021-09-10T11:26:08Z</td>\n      <td>2021-08-02T21:54:52Z</td>\n      <td>Multiple terminal windows do not restore corre...</td>\n      <td>Multiple terminal windows restore correct sess...</td>\n    </tr>\n    <tr>\n      <th>3</th>\n      <td>130004</td>\n      <td>microsoft</td>\n      <td>vscode</td>\n      <td>JacksonKearl</td>\n      <td>Enhance workspacePlatform context key for web ...</td>\n      <td>The `workspacePlatform` context key is current...</td>\n      <td>JacksonKearl</td>\n      <td>closed</td>\n      <td>2021-08-19T17:48:06Z</td>\n      <td>2021-08-02T22:19:28Z</td>\n      <td>Enhance workspacePlatform context key for web ...</td>\n      <td>Enhance workspacePlatform context key web case...</td>\n    </tr>\n    <tr>\n      <th>4</th>\n      <td>130005</td>\n      <td>microsoft</td>\n      <td>vscode</td>\n      <td>JacksonKearl</td>\n      <td>Remove legacy welcome page code</td>\n      <td>This iteration I'll be removing code for the o...</td>\n      <td>JacksonKearl</td>\n      <td>closed</td>\n      <td>2021-08-02T22:38:42Z</td>\n      <td>2021-08-02T22:36:22Z</td>\n      <td>Remove legacy welcome page code This iteration...</td>\n      <td>Remove legacy welcome page code This iteration...</td>\n    </tr>\n  </tbody>\n</table>\n</div>"
     },
     "execution_count": 24,
     "metadata": {},
     "output_type": "execute_result"
    }
   ],
   "source": [
    "df.head()"
   ],
   "metadata": {
    "collapsed": false,
    "pycharm": {
     "name": "#%%\n"
    }
   }
  },
  {
   "cell_type": "code",
   "execution_count": 25,
   "outputs": [
    {
     "name": "stdout",
     "output_type": "stream",
     "text": [
      "1\n"
     ]
    }
   ],
   "source": [
    "print(1)"
   ],
   "metadata": {
    "collapsed": false,
    "pycharm": {
     "name": "#%%\n"
    }
   }
  },
  {
   "cell_type": "code",
   "execution_count": 26,
   "outputs": [],
   "source": [
    "# n_df = df.iloc[0:1000]\n",
    "# n_df = n_df.drop(columns=[\"Text\", \"Body\", \"CleanText\"])\n",
    "n_df = df"
   ],
   "metadata": {
    "collapsed": false,
    "pycharm": {
     "name": "#%%\n"
    }
   }
  },
  {
   "cell_type": "code",
   "execution_count": 27,
   "outputs": [
    {
     "data": {
      "text/plain": "       IssueId      Owner    Repo   AssigneeLogin  \\\n0       130000  microsoft  vscode           mjbvz   \n1       130001  microsoft  vscode      deepak1556   \n2       130003  microsoft  vscode      meganrogge   \n3       130004  microsoft  vscode    JacksonKearl   \n4       130005  microsoft  vscode    JacksonKearl   \n...        ...        ...     ...             ...   \n14258   149992  microsoft  vscode  TylerLeonhardt   \n14259   149994  microsoft  vscode  TylerLeonhardt   \n14260   149995  microsoft  vscode        sandy081   \n14261   149997  microsoft  vscode      meganrogge   \n14262   149999  microsoft  vscode         isidorn   \n\n                                                   Title  \\\n0      [typescript kernel tslab] VSCode's intellisens...   \n1       Webivew input events cannot focus datalist items   \n2      Multiple terminal windows do not restore corre...   \n3      Enhance workspacePlatform context key for web ...   \n4                        Remove legacy welcome page code   \n...                                                  ...   \n14258  Screen reader should read quick pick title fie...   \n14259        Add an aria label to the check all checkbox   \n14260                                    Extension issue   \n14261                      Terminal cutting the letters.   \n14262                                      update distro   \n\n                                                    Body    CreatorLogin  \\\n0      ## Environment data\\r\\n\\r\\n-   VS Code version...         dbuezas   \n1      Related: https://github.com/microsoft/vscode/i...          Tyriar   \n2      \\r\\nIssue Type: <b>Bug</b>\\r\\n\\r\\nUsing a remo...          nspyke   \n3      The `workspacePlatform` context key is current...    JacksonKearl   \n4      This iteration I'll be removing code for the o...    JacksonKearl   \n...                                                  ...             ...   \n14258  <!-- Thank you for submitting a Pull Request. ...  TylerLeonhardt   \n14259  <!-- Thank you for submitting a Pull Request. ...  TylerLeonhardt   \n14260  - Issue Type: `Bug`\\r\\n- Extension Name: `conf...        taiwo375   \n14261  ADD ISSUE DESCRIPTION HERE\\r\\nThe text editor ...         FiDG3TY   \n14262  Updating distro to take latest changes about d...         isidorn   \n\n       Status              ClosedAt             CreatedAt  \\\n0      closed  2021-10-14T20:07:29Z  2021-08-01T13:37:32Z   \n1      closed  2021-11-02T15:51:52Z  2021-08-02T21:07:41Z   \n2      closed  2021-09-10T11:26:08Z  2021-08-02T21:54:52Z   \n3      closed  2021-08-19T17:48:06Z  2021-08-02T22:19:28Z   \n4      closed  2021-08-02T22:38:42Z  2021-08-02T22:36:22Z   \n...       ...                   ...                   ...   \n14258  closed  2022-05-22T05:49:46Z  2022-05-20T05:14:25Z   \n14259  closed  2022-05-20T12:23:40Z  2022-05-20T05:34:30Z   \n14260  closed  2022-05-28T11:26:53Z  2022-05-20T05:45:23Z   \n14261  closed  2022-05-28T11:26:51Z  2022-05-20T07:08:27Z   \n14262  closed  2022-05-20T08:39:45Z  2022-05-20T07:55:17Z   \n\n                                                    Text  \\\n0      [typescript kernel tslab] VSCode's intellisens...   \n1      Webivew input events cannot focus datalist ite...   \n2      Multiple terminal windows do not restore corre...   \n3      Enhance workspacePlatform context key for web ...   \n4      Remove legacy welcome page code This iteration...   \n...                                                  ...   \n14258  Screen reader should read quick pick title fie...   \n14259  Add an aria label to the check all checkbox <!...   \n14260  Extension issue - Issue Type: `Bug`\\r\\n- Exten...   \n14261  Terminal cutting the letters. ADD ISSUE DESCRI...   \n14262  update distro Updating distro to take latest c...   \n\n                                               CleanText  AssignedIssues  \n0      [typescript kernel tslab] VSCode's intellisens...              57  \n1      Webivew input events cannot focus datalist ite...              40  \n2      Multiple terminal windows restore correct sess...              15  \n3      Enhance workspacePlatform context key web case...              12  \n4      Remove legacy welcome page code This iteration...               1  \n...                                                  ...             ...  \n14258  Screen reader read quick pick title field set ...              19  \n14259  Add aria label check checkbox <!-- Thank submi...              20  \n14260  Extension issue - Issue Type: `Bug`\\r - Extens...              21  \n14261  Terminal cut letters. ADD ISSUE DESCRIPTION HE...              17  \n14262  update distro Updating distro take latest chan...               2  \n\n[14263 rows x 13 columns]",
      "text/html": "<div>\n<style scoped>\n    .dataframe tbody tr th:only-of-type {\n        vertical-align: middle;\n    }\n\n    .dataframe tbody tr th {\n        vertical-align: top;\n    }\n\n    .dataframe thead th {\n        text-align: right;\n    }\n</style>\n<table border=\"1\" class=\"dataframe\">\n  <thead>\n    <tr style=\"text-align: right;\">\n      <th></th>\n      <th>IssueId</th>\n      <th>Owner</th>\n      <th>Repo</th>\n      <th>AssigneeLogin</th>\n      <th>Title</th>\n      <th>Body</th>\n      <th>CreatorLogin</th>\n      <th>Status</th>\n      <th>ClosedAt</th>\n      <th>CreatedAt</th>\n      <th>Text</th>\n      <th>CleanText</th>\n      <th>AssignedIssues</th>\n    </tr>\n  </thead>\n  <tbody>\n    <tr>\n      <th>0</th>\n      <td>130000</td>\n      <td>microsoft</td>\n      <td>vscode</td>\n      <td>mjbvz</td>\n      <td>[typescript kernel tslab] VSCode's intellisens...</td>\n      <td>## Environment data\\r\\n\\r\\n-   VS Code version...</td>\n      <td>dbuezas</td>\n      <td>closed</td>\n      <td>2021-10-14T20:07:29Z</td>\n      <td>2021-08-01T13:37:32Z</td>\n      <td>[typescript kernel tslab] VSCode's intellisens...</td>\n      <td>[typescript kernel tslab] VSCode's intellisens...</td>\n      <td>57</td>\n    </tr>\n    <tr>\n      <th>1</th>\n      <td>130001</td>\n      <td>microsoft</td>\n      <td>vscode</td>\n      <td>deepak1556</td>\n      <td>Webivew input events cannot focus datalist items</td>\n      <td>Related: https://github.com/microsoft/vscode/i...</td>\n      <td>Tyriar</td>\n      <td>closed</td>\n      <td>2021-11-02T15:51:52Z</td>\n      <td>2021-08-02T21:07:41Z</td>\n      <td>Webivew input events cannot focus datalist ite...</td>\n      <td>Webivew input events cannot focus datalist ite...</td>\n      <td>40</td>\n    </tr>\n    <tr>\n      <th>2</th>\n      <td>130003</td>\n      <td>microsoft</td>\n      <td>vscode</td>\n      <td>meganrogge</td>\n      <td>Multiple terminal windows do not restore corre...</td>\n      <td>\\r\\nIssue Type: &lt;b&gt;Bug&lt;/b&gt;\\r\\n\\r\\nUsing a remo...</td>\n      <td>nspyke</td>\n      <td>closed</td>\n      <td>2021-09-10T11:26:08Z</td>\n      <td>2021-08-02T21:54:52Z</td>\n      <td>Multiple terminal windows do not restore corre...</td>\n      <td>Multiple terminal windows restore correct sess...</td>\n      <td>15</td>\n    </tr>\n    <tr>\n      <th>3</th>\n      <td>130004</td>\n      <td>microsoft</td>\n      <td>vscode</td>\n      <td>JacksonKearl</td>\n      <td>Enhance workspacePlatform context key for web ...</td>\n      <td>The `workspacePlatform` context key is current...</td>\n      <td>JacksonKearl</td>\n      <td>closed</td>\n      <td>2021-08-19T17:48:06Z</td>\n      <td>2021-08-02T22:19:28Z</td>\n      <td>Enhance workspacePlatform context key for web ...</td>\n      <td>Enhance workspacePlatform context key web case...</td>\n      <td>12</td>\n    </tr>\n    <tr>\n      <th>4</th>\n      <td>130005</td>\n      <td>microsoft</td>\n      <td>vscode</td>\n      <td>JacksonKearl</td>\n      <td>Remove legacy welcome page code</td>\n      <td>This iteration I'll be removing code for the o...</td>\n      <td>JacksonKearl</td>\n      <td>closed</td>\n      <td>2021-08-02T22:38:42Z</td>\n      <td>2021-08-02T22:36:22Z</td>\n      <td>Remove legacy welcome page code This iteration...</td>\n      <td>Remove legacy welcome page code This iteration...</td>\n      <td>1</td>\n    </tr>\n    <tr>\n      <th>...</th>\n      <td>...</td>\n      <td>...</td>\n      <td>...</td>\n      <td>...</td>\n      <td>...</td>\n      <td>...</td>\n      <td>...</td>\n      <td>...</td>\n      <td>...</td>\n      <td>...</td>\n      <td>...</td>\n      <td>...</td>\n      <td>...</td>\n    </tr>\n    <tr>\n      <th>14258</th>\n      <td>149992</td>\n      <td>microsoft</td>\n      <td>vscode</td>\n      <td>TylerLeonhardt</td>\n      <td>Screen reader should read quick pick title fie...</td>\n      <td>&lt;!-- Thank you for submitting a Pull Request. ...</td>\n      <td>TylerLeonhardt</td>\n      <td>closed</td>\n      <td>2022-05-22T05:49:46Z</td>\n      <td>2022-05-20T05:14:25Z</td>\n      <td>Screen reader should read quick pick title fie...</td>\n      <td>Screen reader read quick pick title field set ...</td>\n      <td>19</td>\n    </tr>\n    <tr>\n      <th>14259</th>\n      <td>149994</td>\n      <td>microsoft</td>\n      <td>vscode</td>\n      <td>TylerLeonhardt</td>\n      <td>Add an aria label to the check all checkbox</td>\n      <td>&lt;!-- Thank you for submitting a Pull Request. ...</td>\n      <td>TylerLeonhardt</td>\n      <td>closed</td>\n      <td>2022-05-20T12:23:40Z</td>\n      <td>2022-05-20T05:34:30Z</td>\n      <td>Add an aria label to the check all checkbox &lt;!...</td>\n      <td>Add aria label check checkbox &lt;!-- Thank submi...</td>\n      <td>20</td>\n    </tr>\n    <tr>\n      <th>14260</th>\n      <td>149995</td>\n      <td>microsoft</td>\n      <td>vscode</td>\n      <td>sandy081</td>\n      <td>Extension issue</td>\n      <td>- Issue Type: `Bug`\\r\\n- Extension Name: `conf...</td>\n      <td>taiwo375</td>\n      <td>closed</td>\n      <td>2022-05-28T11:26:53Z</td>\n      <td>2022-05-20T05:45:23Z</td>\n      <td>Extension issue - Issue Type: `Bug`\\r\\n- Exten...</td>\n      <td>Extension issue - Issue Type: `Bug`\\r - Extens...</td>\n      <td>21</td>\n    </tr>\n    <tr>\n      <th>14261</th>\n      <td>149997</td>\n      <td>microsoft</td>\n      <td>vscode</td>\n      <td>meganrogge</td>\n      <td>Terminal cutting the letters.</td>\n      <td>ADD ISSUE DESCRIPTION HERE\\r\\nThe text editor ...</td>\n      <td>FiDG3TY</td>\n      <td>closed</td>\n      <td>2022-05-28T11:26:51Z</td>\n      <td>2022-05-20T07:08:27Z</td>\n      <td>Terminal cutting the letters. ADD ISSUE DESCRI...</td>\n      <td>Terminal cut letters. ADD ISSUE DESCRIPTION HE...</td>\n      <td>17</td>\n    </tr>\n    <tr>\n      <th>14262</th>\n      <td>149999</td>\n      <td>microsoft</td>\n      <td>vscode</td>\n      <td>isidorn</td>\n      <td>update distro</td>\n      <td>Updating distro to take latest changes about d...</td>\n      <td>isidorn</td>\n      <td>closed</td>\n      <td>2022-05-20T08:39:45Z</td>\n      <td>2022-05-20T07:55:17Z</td>\n      <td>update distro Updating distro to take latest c...</td>\n      <td>update distro Updating distro take latest chan...</td>\n      <td>2</td>\n    </tr>\n  </tbody>\n</table>\n<p>14263 rows × 13 columns</p>\n</div>"
     },
     "execution_count": 27,
     "metadata": {},
     "output_type": "execute_result"
    }
   ],
   "source": [
    "def count_assigned_issues_at_creation(issues):\n",
    "    def h(row):\n",
    "        assignee = row[\"AssigneeLogin\"]\n",
    "        date_closed = row[\"ClosedAt\"]\n",
    "        ai = issues[issues[\"AssigneeLogin\"] == assignee]\n",
    "        work_issues = ai[(ai[\"CreatedAt\"] < date_closed) & (ai[\"ClosedAt\"] > date_closed)].shape[0]\n",
    "        return work_issues\n",
    "\n",
    "\n",
    "    return h\n",
    "\n",
    "a = n_df.apply(count_assigned_issues_at_creation(n_df), axis=1)\n",
    "n_df[\"AssignedIssues\"] = a\n",
    "n_df"
   ],
   "metadata": {
    "collapsed": false,
    "pycharm": {
     "name": "#%%\n"
    }
   }
  },
  {
   "cell_type": "code",
   "execution_count": 28,
   "outputs": [
    {
     "data": {
      "text/plain": "       IssueId      Owner    Repo   AssigneeLogin  \\\n0       130000  microsoft  vscode           mjbvz   \n1       130001  microsoft  vscode      deepak1556   \n2       130003  microsoft  vscode      meganrogge   \n3       130004  microsoft  vscode    JacksonKearl   \n4       130005  microsoft  vscode    JacksonKearl   \n...        ...        ...     ...             ...   \n14258   149992  microsoft  vscode  TylerLeonhardt   \n14259   149994  microsoft  vscode  TylerLeonhardt   \n14260   149995  microsoft  vscode        sandy081   \n14261   149997  microsoft  vscode      meganrogge   \n14262   149999  microsoft  vscode         isidorn   \n\n                                                   Title  \\\n0      [typescript kernel tslab] VSCode's intellisens...   \n1       Webivew input events cannot focus datalist items   \n2      Multiple terminal windows do not restore corre...   \n3      Enhance workspacePlatform context key for web ...   \n4                        Remove legacy welcome page code   \n...                                                  ...   \n14258  Screen reader should read quick pick title fie...   \n14259        Add an aria label to the check all checkbox   \n14260                                    Extension issue   \n14261                      Terminal cutting the letters.   \n14262                                      update distro   \n\n                                                    Body    CreatorLogin  \\\n0      ## Environment data\\r\\n\\r\\n-   VS Code version...         dbuezas   \n1      Related: https://github.com/microsoft/vscode/i...          Tyriar   \n2      \\r\\nIssue Type: <b>Bug</b>\\r\\n\\r\\nUsing a remo...          nspyke   \n3      The `workspacePlatform` context key is current...    JacksonKearl   \n4      This iteration I'll be removing code for the o...    JacksonKearl   \n...                                                  ...             ...   \n14258  <!-- Thank you for submitting a Pull Request. ...  TylerLeonhardt   \n14259  <!-- Thank you for submitting a Pull Request. ...  TylerLeonhardt   \n14260  - Issue Type: `Bug`\\r\\n- Extension Name: `conf...        taiwo375   \n14261  ADD ISSUE DESCRIPTION HERE\\r\\nThe text editor ...         FiDG3TY   \n14262  Updating distro to take latest changes about d...         isidorn   \n\n       Status              ClosedAt             CreatedAt  \\\n0      closed  2021-10-14T20:07:29Z  2021-08-01T13:37:32Z   \n1      closed  2021-11-02T15:51:52Z  2021-08-02T21:07:41Z   \n2      closed  2021-09-10T11:26:08Z  2021-08-02T21:54:52Z   \n3      closed  2021-08-19T17:48:06Z  2021-08-02T22:19:28Z   \n4      closed  2021-08-02T22:38:42Z  2021-08-02T22:36:22Z   \n...       ...                   ...                   ...   \n14258  closed  2022-05-22T05:49:46Z  2022-05-20T05:14:25Z   \n14259  closed  2022-05-20T12:23:40Z  2022-05-20T05:34:30Z   \n14260  closed  2022-05-28T11:26:53Z  2022-05-20T05:45:23Z   \n14261  closed  2022-05-28T11:26:51Z  2022-05-20T07:08:27Z   \n14262  closed  2022-05-20T08:39:45Z  2022-05-20T07:55:17Z   \n\n                                                    Text  \\\n0      [typescript kernel tslab] VSCode's intellisens...   \n1      Webivew input events cannot focus datalist ite...   \n2      Multiple terminal windows do not restore corre...   \n3      Enhance workspacePlatform context key for web ...   \n4      Remove legacy welcome page code This iteration...   \n...                                                  ...   \n14258  Screen reader should read quick pick title fie...   \n14259  Add an aria label to the check all checkbox <!...   \n14260  Extension issue - Issue Type: `Bug`\\r\\n- Exten...   \n14261  Terminal cutting the letters. ADD ISSUE DESCRI...   \n14262  update distro Updating distro to take latest c...   \n\n                                               CleanText  AssignedIssues  \\\n0      [typescript kernel tslab] VSCode's intellisens...              57   \n1      Webivew input events cannot focus datalist ite...              40   \n2      Multiple terminal windows restore correct sess...              15   \n3      Enhance workspacePlatform context key web case...              12   \n4      Remove legacy welcome page code This iteration...               1   \n...                                                  ...             ...   \n14258  Screen reader read quick pick title field set ...              19   \n14259  Add aria label check checkbox <!-- Thank submi...              20   \n14260  Extension issue - Issue Type: `Bug`\\r - Extens...              21   \n14261  Terminal cut letters. ADD ISSUE DESCRIPTION HE...              17   \n14262  update distro Updating distro take latest chan...               2   \n\n       MeanAssignedIssues  \n0               59.392268  \n1               27.933798  \n2               18.649028  \n3               35.657509  \n4               35.657509  \n...                   ...  \n14258           15.121901  \n14259           15.121901  \n14260           21.109875  \n14261           18.649028  \n14262            7.851613  \n\n[14263 rows x 14 columns]",
      "text/html": "<div>\n<style scoped>\n    .dataframe tbody tr th:only-of-type {\n        vertical-align: middle;\n    }\n\n    .dataframe tbody tr th {\n        vertical-align: top;\n    }\n\n    .dataframe thead th {\n        text-align: right;\n    }\n</style>\n<table border=\"1\" class=\"dataframe\">\n  <thead>\n    <tr style=\"text-align: right;\">\n      <th></th>\n      <th>IssueId</th>\n      <th>Owner</th>\n      <th>Repo</th>\n      <th>AssigneeLogin</th>\n      <th>Title</th>\n      <th>Body</th>\n      <th>CreatorLogin</th>\n      <th>Status</th>\n      <th>ClosedAt</th>\n      <th>CreatedAt</th>\n      <th>Text</th>\n      <th>CleanText</th>\n      <th>AssignedIssues</th>\n      <th>MeanAssignedIssues</th>\n    </tr>\n  </thead>\n  <tbody>\n    <tr>\n      <th>0</th>\n      <td>130000</td>\n      <td>microsoft</td>\n      <td>vscode</td>\n      <td>mjbvz</td>\n      <td>[typescript kernel tslab] VSCode's intellisens...</td>\n      <td>## Environment data\\r\\n\\r\\n-   VS Code version...</td>\n      <td>dbuezas</td>\n      <td>closed</td>\n      <td>2021-10-14T20:07:29Z</td>\n      <td>2021-08-01T13:37:32Z</td>\n      <td>[typescript kernel tslab] VSCode's intellisens...</td>\n      <td>[typescript kernel tslab] VSCode's intellisens...</td>\n      <td>57</td>\n      <td>59.392268</td>\n    </tr>\n    <tr>\n      <th>1</th>\n      <td>130001</td>\n      <td>microsoft</td>\n      <td>vscode</td>\n      <td>deepak1556</td>\n      <td>Webivew input events cannot focus datalist items</td>\n      <td>Related: https://github.com/microsoft/vscode/i...</td>\n      <td>Tyriar</td>\n      <td>closed</td>\n      <td>2021-11-02T15:51:52Z</td>\n      <td>2021-08-02T21:07:41Z</td>\n      <td>Webivew input events cannot focus datalist ite...</td>\n      <td>Webivew input events cannot focus datalist ite...</td>\n      <td>40</td>\n      <td>27.933798</td>\n    </tr>\n    <tr>\n      <th>2</th>\n      <td>130003</td>\n      <td>microsoft</td>\n      <td>vscode</td>\n      <td>meganrogge</td>\n      <td>Multiple terminal windows do not restore corre...</td>\n      <td>\\r\\nIssue Type: &lt;b&gt;Bug&lt;/b&gt;\\r\\n\\r\\nUsing a remo...</td>\n      <td>nspyke</td>\n      <td>closed</td>\n      <td>2021-09-10T11:26:08Z</td>\n      <td>2021-08-02T21:54:52Z</td>\n      <td>Multiple terminal windows do not restore corre...</td>\n      <td>Multiple terminal windows restore correct sess...</td>\n      <td>15</td>\n      <td>18.649028</td>\n    </tr>\n    <tr>\n      <th>3</th>\n      <td>130004</td>\n      <td>microsoft</td>\n      <td>vscode</td>\n      <td>JacksonKearl</td>\n      <td>Enhance workspacePlatform context key for web ...</td>\n      <td>The `workspacePlatform` context key is current...</td>\n      <td>JacksonKearl</td>\n      <td>closed</td>\n      <td>2021-08-19T17:48:06Z</td>\n      <td>2021-08-02T22:19:28Z</td>\n      <td>Enhance workspacePlatform context key for web ...</td>\n      <td>Enhance workspacePlatform context key web case...</td>\n      <td>12</td>\n      <td>35.657509</td>\n    </tr>\n    <tr>\n      <th>4</th>\n      <td>130005</td>\n      <td>microsoft</td>\n      <td>vscode</td>\n      <td>JacksonKearl</td>\n      <td>Remove legacy welcome page code</td>\n      <td>This iteration I'll be removing code for the o...</td>\n      <td>JacksonKearl</td>\n      <td>closed</td>\n      <td>2021-08-02T22:38:42Z</td>\n      <td>2021-08-02T22:36:22Z</td>\n      <td>Remove legacy welcome page code This iteration...</td>\n      <td>Remove legacy welcome page code This iteration...</td>\n      <td>1</td>\n      <td>35.657509</td>\n    </tr>\n    <tr>\n      <th>...</th>\n      <td>...</td>\n      <td>...</td>\n      <td>...</td>\n      <td>...</td>\n      <td>...</td>\n      <td>...</td>\n      <td>...</td>\n      <td>...</td>\n      <td>...</td>\n      <td>...</td>\n      <td>...</td>\n      <td>...</td>\n      <td>...</td>\n      <td>...</td>\n    </tr>\n    <tr>\n      <th>14258</th>\n      <td>149992</td>\n      <td>microsoft</td>\n      <td>vscode</td>\n      <td>TylerLeonhardt</td>\n      <td>Screen reader should read quick pick title fie...</td>\n      <td>&lt;!-- Thank you for submitting a Pull Request. ...</td>\n      <td>TylerLeonhardt</td>\n      <td>closed</td>\n      <td>2022-05-22T05:49:46Z</td>\n      <td>2022-05-20T05:14:25Z</td>\n      <td>Screen reader should read quick pick title fie...</td>\n      <td>Screen reader read quick pick title field set ...</td>\n      <td>19</td>\n      <td>15.121901</td>\n    </tr>\n    <tr>\n      <th>14259</th>\n      <td>149994</td>\n      <td>microsoft</td>\n      <td>vscode</td>\n      <td>TylerLeonhardt</td>\n      <td>Add an aria label to the check all checkbox</td>\n      <td>&lt;!-- Thank you for submitting a Pull Request. ...</td>\n      <td>TylerLeonhardt</td>\n      <td>closed</td>\n      <td>2022-05-20T12:23:40Z</td>\n      <td>2022-05-20T05:34:30Z</td>\n      <td>Add an aria label to the check all checkbox &lt;!...</td>\n      <td>Add aria label check checkbox &lt;!-- Thank submi...</td>\n      <td>20</td>\n      <td>15.121901</td>\n    </tr>\n    <tr>\n      <th>14260</th>\n      <td>149995</td>\n      <td>microsoft</td>\n      <td>vscode</td>\n      <td>sandy081</td>\n      <td>Extension issue</td>\n      <td>- Issue Type: `Bug`\\r\\n- Extension Name: `conf...</td>\n      <td>taiwo375</td>\n      <td>closed</td>\n      <td>2022-05-28T11:26:53Z</td>\n      <td>2022-05-20T05:45:23Z</td>\n      <td>Extension issue - Issue Type: `Bug`\\r\\n- Exten...</td>\n      <td>Extension issue - Issue Type: `Bug`\\r - Extens...</td>\n      <td>21</td>\n      <td>21.109875</td>\n    </tr>\n    <tr>\n      <th>14261</th>\n      <td>149997</td>\n      <td>microsoft</td>\n      <td>vscode</td>\n      <td>meganrogge</td>\n      <td>Terminal cutting the letters.</td>\n      <td>ADD ISSUE DESCRIPTION HERE\\r\\nThe text editor ...</td>\n      <td>FiDG3TY</td>\n      <td>closed</td>\n      <td>2022-05-28T11:26:51Z</td>\n      <td>2022-05-20T07:08:27Z</td>\n      <td>Terminal cutting the letters. ADD ISSUE DESCRI...</td>\n      <td>Terminal cut letters. ADD ISSUE DESCRIPTION HE...</td>\n      <td>17</td>\n      <td>18.649028</td>\n    </tr>\n    <tr>\n      <th>14262</th>\n      <td>149999</td>\n      <td>microsoft</td>\n      <td>vscode</td>\n      <td>isidorn</td>\n      <td>update distro</td>\n      <td>Updating distro to take latest changes about d...</td>\n      <td>isidorn</td>\n      <td>closed</td>\n      <td>2022-05-20T08:39:45Z</td>\n      <td>2022-05-20T07:55:17Z</td>\n      <td>update distro Updating distro to take latest c...</td>\n      <td>update distro Updating distro take latest chan...</td>\n      <td>2</td>\n      <td>7.851613</td>\n    </tr>\n  </tbody>\n</table>\n<p>14263 rows × 14 columns</p>\n</div>"
     },
     "execution_count": 28,
     "metadata": {},
     "output_type": "execute_result"
    }
   ],
   "source": [
    "from numpy import mean\n",
    "\n",
    "n_df[\"MeanAssignedIssues\"] = n_df.groupby(\"AssigneeLogin\")[\"AssignedIssues\"].transform(mean)\n",
    "n_df"
   ],
   "metadata": {
    "collapsed": false,
    "pycharm": {
     "name": "#%%\n"
    }
   }
  },
  {
   "cell_type": "code",
   "execution_count": 28,
   "outputs": [],
   "source": [],
   "metadata": {
    "collapsed": false,
    "pycharm": {
     "name": "#%%\n"
    }
   }
  }
 ],
 "metadata": {
  "kernelspec": {
   "display_name": "Python 3",
   "language": "python",
   "name": "python3"
  },
  "language_info": {
   "codemirror_mode": {
    "name": "ipython",
    "version": 2
   },
   "file_extension": ".py",
   "mimetype": "text/x-python",
   "name": "python",
   "nbconvert_exporter": "python",
   "pygments_lexer": "ipython2",
   "version": "2.7.6"
  }
 },
 "nbformat": 4,
 "nbformat_minor": 0
}