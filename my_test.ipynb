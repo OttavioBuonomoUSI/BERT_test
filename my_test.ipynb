{
 "cells": [
  {
   "cell_type": "code",
   "execution_count": 5,
   "metadata": {
    "collapsed": true
   },
   "outputs": [],
   "source": [
    "from train import split_text, lem_words\n",
    "from db.db import create_db_connection, get_issues_from_to_id\n",
    "import pandas as pd\n"
   ]
  },
  {
   "cell_type": "code",
   "execution_count": 6,
   "outputs": [],
   "source": [
    "\n",
    "from train import remove_stopwords1\n",
    "\n",
    "conn = create_db_connection()\n",
    "issues = get_issues_from_to_id(conn, 140000, 150000)\n",
    "df = pd.DataFrame.from_dict(issues)\n",
    "df[\"Text\"] = df[\"Title\"] + \" \" + df[\"Body\"]\n",
    "df[\"CleanText\"] = df[\"Text\"].map(lambda text: \" \".join(lem_words(remove_stopwords1(split_text(str(text))))))"
   ],
   "metadata": {
    "collapsed": false,
    "pycharm": {
     "name": "#%%\n"
    }
   }
  },
  {
   "cell_type": "code",
   "execution_count": 7,
   "outputs": [
    {
     "data": {
      "text/plain": "      IssueId   AssigneeLogin  \\\n0      140000      roblourens   \n1      140001        alexdima   \n2      140004        lramos15   \n3      140006         aeschli   \n4      140007        lramos15   \n...       ...             ...   \n7475   149992  TylerLeonhardt   \n7476   149994  TylerLeonhardt   \n7477   149995        sandy081   \n7478   149997      meganrogge   \n7479   149999         isidorn   \n\n                                                  Title  \\\n0     Regex search with negative lookahead alway cas...   \n1                         Selecting text between quotes   \n2     Support opening files with an external applica...   \n3     Theme type:light is ignored, wrongly detected ...   \n4     add custom Style to (top level) Workspace Fold...   \n...                                                 ...   \n7475  Screen reader should read quick pick title fie...   \n7476        Add an aria label to the check all checkbox   \n7477                                    Extension issue   \n7478                      Terminal cutting the letters.   \n7479                                      update distro   \n\n                                                   Body      CreatorLogin  \\\n0     Issue Type: <b>Bug</b>\\r\\n\\r\\nI have a file wi...         usama8800   \n1     <!-- ⚠️⚠️ Do Not Delete This! feature_request_...         1alexvash   \n2     In Visual Studio, you could open a file direct...  Jaiganeshkumaran   \n3     <!-- ⚠️⚠️ Do Not Delete This! bug_report_templ...           phil294   \n4     <!-- ⚠️⚠️ Do Not Delete This! feature_request_...         sillyslux   \n...                                                 ...               ...   \n7475  <!-- Thank you for submitting a Pull Request. ...    TylerLeonhardt   \n7476  <!-- Thank you for submitting a Pull Request. ...    TylerLeonhardt   \n7477  - Issue Type: `Bug`\\r\\n- Extension Name: `conf...          taiwo375   \n7478  ADD ISSUE DESCRIPTION HERE\\r\\nThe text editor ...           FiDG3TY   \n7479  Updating distro to take latest changes about d...           isidorn   \n\n                                                   Text  \\\n0     Regex search with negative lookahead alway cas...   \n1     Selecting text between quotes <!-- ⚠️⚠️ Do Not...   \n2     Support opening files with an external applica...   \n3     Theme type:light is ignored, wrongly detected ...   \n4     add custom Style to (top level) Workspace Fold...   \n...                                                 ...   \n7475  Screen reader should read quick pick title fie...   \n7476  Add an aria label to the check all checkbox <!...   \n7477  Extension issue - Issue Type: `Bug`\\r\\n- Exten...   \n7478  Terminal cutting the letters. ADD ISSUE DESCRI...   \n7479  update distro Updating distro to take latest c...   \n\n                                              CleanText  \n0     Regex search negative lookahead alway case sen...  \n1     Selecting text quote <!-- ⚠️⚠️ Do Not Delete T...  \n2     Support opening file external application In V...  \n3     Theme type:light ignored, wrongly detected dar...  \n4     add custom Style (top level) Workspace Folders...  \n...                                                 ...  \n7475  Screen reader read quick pick title field set ...  \n7476  Add aria label check checkbox <!-- Thank submi...  \n7477  Extension issue - Issue Type: `Bug`\\r - Extens...  \n7478  Terminal cutting letters. ADD ISSUE DESCRIPTIO...  \n7479  update distro Updating distro take latest chan...  \n\n[7480 rows x 7 columns]",
      "text/html": "<div>\n<style scoped>\n    .dataframe tbody tr th:only-of-type {\n        vertical-align: middle;\n    }\n\n    .dataframe tbody tr th {\n        vertical-align: top;\n    }\n\n    .dataframe thead th {\n        text-align: right;\n    }\n</style>\n<table border=\"1\" class=\"dataframe\">\n  <thead>\n    <tr style=\"text-align: right;\">\n      <th></th>\n      <th>IssueId</th>\n      <th>AssigneeLogin</th>\n      <th>Title</th>\n      <th>Body</th>\n      <th>CreatorLogin</th>\n      <th>Text</th>\n      <th>CleanText</th>\n    </tr>\n  </thead>\n  <tbody>\n    <tr>\n      <th>0</th>\n      <td>140000</td>\n      <td>roblourens</td>\n      <td>Regex search with negative lookahead alway cas...</td>\n      <td>Issue Type: &lt;b&gt;Bug&lt;/b&gt;\\r\\n\\r\\nI have a file wi...</td>\n      <td>usama8800</td>\n      <td>Regex search with negative lookahead alway cas...</td>\n      <td>Regex search negative lookahead alway case sen...</td>\n    </tr>\n    <tr>\n      <th>1</th>\n      <td>140001</td>\n      <td>alexdima</td>\n      <td>Selecting text between quotes</td>\n      <td>&lt;!-- ⚠️⚠️ Do Not Delete This! feature_request_...</td>\n      <td>1alexvash</td>\n      <td>Selecting text between quotes &lt;!-- ⚠️⚠️ Do Not...</td>\n      <td>Selecting text quote &lt;!-- ⚠️⚠️ Do Not Delete T...</td>\n    </tr>\n    <tr>\n      <th>2</th>\n      <td>140004</td>\n      <td>lramos15</td>\n      <td>Support opening files with an external applica...</td>\n      <td>In Visual Studio, you could open a file direct...</td>\n      <td>Jaiganeshkumaran</td>\n      <td>Support opening files with an external applica...</td>\n      <td>Support opening file external application In V...</td>\n    </tr>\n    <tr>\n      <th>3</th>\n      <td>140006</td>\n      <td>aeschli</td>\n      <td>Theme type:light is ignored, wrongly detected ...</td>\n      <td>&lt;!-- ⚠️⚠️ Do Not Delete This! bug_report_templ...</td>\n      <td>phil294</td>\n      <td>Theme type:light is ignored, wrongly detected ...</td>\n      <td>Theme type:light ignored, wrongly detected dar...</td>\n    </tr>\n    <tr>\n      <th>4</th>\n      <td>140007</td>\n      <td>lramos15</td>\n      <td>add custom Style to (top level) Workspace Fold...</td>\n      <td>&lt;!-- ⚠️⚠️ Do Not Delete This! feature_request_...</td>\n      <td>sillyslux</td>\n      <td>add custom Style to (top level) Workspace Fold...</td>\n      <td>add custom Style (top level) Workspace Folders...</td>\n    </tr>\n    <tr>\n      <th>...</th>\n      <td>...</td>\n      <td>...</td>\n      <td>...</td>\n      <td>...</td>\n      <td>...</td>\n      <td>...</td>\n      <td>...</td>\n    </tr>\n    <tr>\n      <th>7475</th>\n      <td>149992</td>\n      <td>TylerLeonhardt</td>\n      <td>Screen reader should read quick pick title fie...</td>\n      <td>&lt;!-- Thank you for submitting a Pull Request. ...</td>\n      <td>TylerLeonhardt</td>\n      <td>Screen reader should read quick pick title fie...</td>\n      <td>Screen reader read quick pick title field set ...</td>\n    </tr>\n    <tr>\n      <th>7476</th>\n      <td>149994</td>\n      <td>TylerLeonhardt</td>\n      <td>Add an aria label to the check all checkbox</td>\n      <td>&lt;!-- Thank you for submitting a Pull Request. ...</td>\n      <td>TylerLeonhardt</td>\n      <td>Add an aria label to the check all checkbox &lt;!...</td>\n      <td>Add aria label check checkbox &lt;!-- Thank submi...</td>\n    </tr>\n    <tr>\n      <th>7477</th>\n      <td>149995</td>\n      <td>sandy081</td>\n      <td>Extension issue</td>\n      <td>- Issue Type: `Bug`\\r\\n- Extension Name: `conf...</td>\n      <td>taiwo375</td>\n      <td>Extension issue - Issue Type: `Bug`\\r\\n- Exten...</td>\n      <td>Extension issue - Issue Type: `Bug`\\r - Extens...</td>\n    </tr>\n    <tr>\n      <th>7478</th>\n      <td>149997</td>\n      <td>meganrogge</td>\n      <td>Terminal cutting the letters.</td>\n      <td>ADD ISSUE DESCRIPTION HERE\\r\\nThe text editor ...</td>\n      <td>FiDG3TY</td>\n      <td>Terminal cutting the letters. ADD ISSUE DESCRI...</td>\n      <td>Terminal cutting letters. ADD ISSUE DESCRIPTIO...</td>\n    </tr>\n    <tr>\n      <th>7479</th>\n      <td>149999</td>\n      <td>isidorn</td>\n      <td>update distro</td>\n      <td>Updating distro to take latest changes about d...</td>\n      <td>isidorn</td>\n      <td>update distro Updating distro to take latest c...</td>\n      <td>update distro Updating distro take latest chan...</td>\n    </tr>\n  </tbody>\n</table>\n<p>7480 rows × 7 columns</p>\n</div>"
     },
     "execution_count": 7,
     "metadata": {},
     "output_type": "execute_result"
    }
   ],
   "source": [
    "df"
   ],
   "metadata": {
    "collapsed": false,
    "pycharm": {
     "name": "#%%\n"
    }
   }
  }
 ],
 "metadata": {
  "kernelspec": {
   "display_name": "Python 3",
   "language": "python",
   "name": "python3"
  },
  "language_info": {
   "codemirror_mode": {
    "name": "ipython",
    "version": 2
   },
   "file_extension": ".py",
   "mimetype": "text/x-python",
   "name": "python",
   "nbconvert_exporter": "python",
   "pygments_lexer": "ipython2",
   "version": "2.7.6"
  }
 },
 "nbformat": 4,
 "nbformat_minor": 0
}